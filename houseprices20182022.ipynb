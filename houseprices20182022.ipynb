{
 "cells": [
  {
   "attachments": {},
   "cell_type": "markdown",
   "metadata": {},
   "source": [
    "# England and Wales House Prices 2018-2022\n",
    "\n",
    "Source: [Gov.uk](https://www.gov.uk/government/statistical-data-sets/price-paid-data-downloads)\n",
    "Guidance: [About the price paid data](https://www.gov.uk/guidance/about-the-price-paid-data)"
   ]
  },
  {
   "cell_type": "code",
   "execution_count": 2,
   "metadata": {},
   "outputs": [],
   "source": [
    "# Importing relevant modules\n",
    "\n",
    "import pandas as pd\n",
    "import seaborn as sns\n",
    "from zipfile import ZipFile"
   ]
  },
  {
   "attachments": {},
   "cell_type": "markdown",
   "metadata": {},
   "source": [
    "## Data Cleaning"
   ]
  },
  {
   "cell_type": "code",
   "execution_count": 4,
   "metadata": {},
   "outputs": [],
   "source": [
    "# Create pandas dataframe for each year to be analised\n",
    "\n",
    "# Set start and end years of the analysis\n",
    "\n",
    "start_year = 2018\n",
    "end_year = 2022\n",
    "\n",
    "# List where each yearly dataframe will be stored\n",
    "\n",
    "dfs = []\n",
    "\n",
    "# This loop will create a dataframe for each year to be analised. Each dataset is stored in a zip file so they need to be extracted first.\n",
    "\n",
    "for year in range(start_year, end_year+1):\n",
    "    with ZipFile(f'data/pricepaid/pp-{year}.zip', 'r') as zObject:\n",
    "        zObject.extractall(path='data/pricepaid/')\n",
    "    df = pd.read_csv(f'data/pricepaid/pp-{year}.csv',\n",
    "        header=None,\n",
    "        names=['Tid', 'Price', 'Date of Transfer', 'Postcode', 'Property Type', 'Old/New', 'Duration', 'PAON', 'SAON', 'Street', 'Locality', \n",
    "            'Town/City', 'District', 'County', 'PPD Category Type', 'Record type'],\n",
    "        parse_dates=['Date of Transfer'])\n",
    "    dfs.append(df)\n",
    "    "
   ]
  },
  {
   "cell_type": "code",
   "execution_count": 5,
   "metadata": {},
   "outputs": [],
   "source": [
    "# Concatenate all the individual yearly dataframes into one\n",
    "\n",
    "df = pd.concat(dfs)"
   ]
  },
  {
   "cell_type": "code",
   "execution_count": 6,
   "metadata": {},
   "outputs": [],
   "source": [
    "# Turn off scientific notation\n",
    "\n",
    "pd.set_option('display.float_format', lambda x: '%.5f' % x)"
   ]
  },
  {
   "cell_type": "code",
   "execution_count": 7,
   "metadata": {},
   "outputs": [
    {
     "name": "stdout",
     "output_type": "stream",
     "text": [
      "<class 'pandas.core.frame.DataFrame'>\n",
      "Index: 5062858 entries, 0 to 899433\n",
      "Data columns (total 16 columns):\n",
      " #   Column             Dtype         \n",
      "---  ------             -----         \n",
      " 0   Tid                object        \n",
      " 1   Price              int64         \n",
      " 2   Date of Transfer   datetime64[ns]\n",
      " 3   Postcode           object        \n",
      " 4   Property Type      object        \n",
      " 5   Old/New            object        \n",
      " 6   Duration           object        \n",
      " 7   PAON               object        \n",
      " 8   SAON               object        \n",
      " 9   Street             object        \n",
      " 10  Locality           object        \n",
      " 11  Town/City          object        \n",
      " 12  District           object        \n",
      " 13  County             object        \n",
      " 14  PPD Category Type  object        \n",
      " 15  Record type        object        \n",
      "dtypes: datetime64[ns](1), int64(1), object(14)\n",
      "memory usage: 656.7+ MB\n"
     ]
    }
   ],
   "source": [
    "# Display information about the dataframe created\n",
    "\n",
    "df.info()"
   ]
  },
  {
   "cell_type": "code",
   "execution_count": 8,
   "metadata": {},
   "outputs": [
    {
     "data": {
      "text/html": [
       "<div>\n",
       "<style scoped>\n",
       "    .dataframe tbody tr th:only-of-type {\n",
       "        vertical-align: middle;\n",
       "    }\n",
       "\n",
       "    .dataframe tbody tr th {\n",
       "        vertical-align: top;\n",
       "    }\n",
       "\n",
       "    .dataframe thead th {\n",
       "        text-align: right;\n",
       "    }\n",
       "</style>\n",
       "<table border=\"1\" class=\"dataframe\">\n",
       "  <thead>\n",
       "    <tr style=\"text-align: right;\">\n",
       "      <th></th>\n",
       "      <th>Tid</th>\n",
       "      <th>Price</th>\n",
       "      <th>Date of Transfer</th>\n",
       "      <th>Postcode</th>\n",
       "      <th>Property Type</th>\n",
       "      <th>Old/New</th>\n",
       "      <th>Duration</th>\n",
       "      <th>PAON</th>\n",
       "      <th>SAON</th>\n",
       "      <th>Street</th>\n",
       "      <th>Locality</th>\n",
       "      <th>Town/City</th>\n",
       "      <th>District</th>\n",
       "      <th>County</th>\n",
       "      <th>PPD Category Type</th>\n",
       "      <th>Record type</th>\n",
       "    </tr>\n",
       "  </thead>\n",
       "  <tbody>\n",
       "    <tr>\n",
       "      <th>0</th>\n",
       "      <td>{79A74E21-D11E-1289-E053-6B04A8C01627}</td>\n",
       "      <td>770000</td>\n",
       "      <td>2018-09-25</td>\n",
       "      <td>SK7 1AR</td>\n",
       "      <td>D</td>\n",
       "      <td>N</td>\n",
       "      <td>F</td>\n",
       "      <td>5</td>\n",
       "      <td>NaN</td>\n",
       "      <td>OAK MEADOW</td>\n",
       "      <td>BRAMHALL</td>\n",
       "      <td>STOCKPORT</td>\n",
       "      <td>STOCKPORT</td>\n",
       "      <td>GREATER MANCHESTER</td>\n",
       "      <td>A</td>\n",
       "      <td>A</td>\n",
       "    </tr>\n",
       "    <tr>\n",
       "      <th>1</th>\n",
       "      <td>{79A74E21-D11F-1289-E053-6B04A8C01627}</td>\n",
       "      <td>253500</td>\n",
       "      <td>2018-09-24</td>\n",
       "      <td>M6 8GQ</td>\n",
       "      <td>D</td>\n",
       "      <td>N</td>\n",
       "      <td>F</td>\n",
       "      <td>1</td>\n",
       "      <td>NaN</td>\n",
       "      <td>RIVINGTON ROAD</td>\n",
       "      <td>NaN</td>\n",
       "      <td>SALFORD</td>\n",
       "      <td>SALFORD</td>\n",
       "      <td>GREATER MANCHESTER</td>\n",
       "      <td>A</td>\n",
       "      <td>A</td>\n",
       "    </tr>\n",
       "    <tr>\n",
       "      <th>2</th>\n",
       "      <td>{79A74E21-D120-1289-E053-6B04A8C01627}</td>\n",
       "      <td>231950</td>\n",
       "      <td>2018-09-28</td>\n",
       "      <td>WA3 2UE</td>\n",
       "      <td>D</td>\n",
       "      <td>Y</td>\n",
       "      <td>F</td>\n",
       "      <td>35</td>\n",
       "      <td>NaN</td>\n",
       "      <td>STONEACRE CLOSE</td>\n",
       "      <td>LOWTON</td>\n",
       "      <td>WARRINGTON</td>\n",
       "      <td>WIGAN</td>\n",
       "      <td>GREATER MANCHESTER</td>\n",
       "      <td>A</td>\n",
       "      <td>A</td>\n",
       "    </tr>\n",
       "    <tr>\n",
       "      <th>3</th>\n",
       "      <td>{79A74E21-D121-1289-E053-6B04A8C01627}</td>\n",
       "      <td>112500</td>\n",
       "      <td>2018-08-29</td>\n",
       "      <td>OL6 6RJ</td>\n",
       "      <td>S</td>\n",
       "      <td>N</td>\n",
       "      <td>F</td>\n",
       "      <td>102</td>\n",
       "      <td>NaN</td>\n",
       "      <td>THORNFIELD GROVE</td>\n",
       "      <td>NaN</td>\n",
       "      <td>ASHTON-UNDER-LYNE</td>\n",
       "      <td>TAMESIDE</td>\n",
       "      <td>GREATER MANCHESTER</td>\n",
       "      <td>A</td>\n",
       "      <td>A</td>\n",
       "    </tr>\n",
       "    <tr>\n",
       "      <th>4</th>\n",
       "      <td>{79A74E21-D122-1289-E053-6B04A8C01627}</td>\n",
       "      <td>184995</td>\n",
       "      <td>2018-06-15</td>\n",
       "      <td>M46 0TW</td>\n",
       "      <td>S</td>\n",
       "      <td>Y</td>\n",
       "      <td>F</td>\n",
       "      <td>37</td>\n",
       "      <td>NaN</td>\n",
       "      <td>THREADNEEDLE PLACE</td>\n",
       "      <td>ATHERTON</td>\n",
       "      <td>MANCHESTER</td>\n",
       "      <td>WIGAN</td>\n",
       "      <td>GREATER MANCHESTER</td>\n",
       "      <td>A</td>\n",
       "      <td>A</td>\n",
       "    </tr>\n",
       "  </tbody>\n",
       "</table>\n",
       "</div>"
      ],
      "text/plain": [
       "                                      Tid   Price Date of Transfer Postcode  \\\n",
       "0  {79A74E21-D11E-1289-E053-6B04A8C01627}  770000       2018-09-25  SK7 1AR   \n",
       "1  {79A74E21-D11F-1289-E053-6B04A8C01627}  253500       2018-09-24   M6 8GQ   \n",
       "2  {79A74E21-D120-1289-E053-6B04A8C01627}  231950       2018-09-28  WA3 2UE   \n",
       "3  {79A74E21-D121-1289-E053-6B04A8C01627}  112500       2018-08-29  OL6 6RJ   \n",
       "4  {79A74E21-D122-1289-E053-6B04A8C01627}  184995       2018-06-15  M46 0TW   \n",
       "\n",
       "  Property Type Old/New Duration PAON SAON              Street  Locality  \\\n",
       "0             D       N        F    5  NaN          OAK MEADOW  BRAMHALL   \n",
       "1             D       N        F    1  NaN      RIVINGTON ROAD       NaN   \n",
       "2             D       Y        F   35  NaN     STONEACRE CLOSE    LOWTON   \n",
       "3             S       N        F  102  NaN    THORNFIELD GROVE       NaN   \n",
       "4             S       Y        F   37  NaN  THREADNEEDLE PLACE  ATHERTON   \n",
       "\n",
       "           Town/City   District              County PPD Category Type  \\\n",
       "0          STOCKPORT  STOCKPORT  GREATER MANCHESTER                 A   \n",
       "1            SALFORD    SALFORD  GREATER MANCHESTER                 A   \n",
       "2         WARRINGTON      WIGAN  GREATER MANCHESTER                 A   \n",
       "3  ASHTON-UNDER-LYNE   TAMESIDE  GREATER MANCHESTER                 A   \n",
       "4         MANCHESTER      WIGAN  GREATER MANCHESTER                 A   \n",
       "\n",
       "  Record type  \n",
       "0           A  \n",
       "1           A  \n",
       "2           A  \n",
       "3           A  \n",
       "4           A  "
      ]
     },
     "execution_count": 8,
     "metadata": {},
     "output_type": "execute_result"
    }
   ],
   "source": [
    "# Check header\n",
    "\n",
    "df.head()"
   ]
  },
  {
   "cell_type": "code",
   "execution_count": 7,
   "metadata": {},
   "outputs": [
    {
     "data": {
      "text/html": [
       "<div>\n",
       "<style scoped>\n",
       "    .dataframe tbody tr th:only-of-type {\n",
       "        vertical-align: middle;\n",
       "    }\n",
       "\n",
       "    .dataframe tbody tr th {\n",
       "        vertical-align: top;\n",
       "    }\n",
       "\n",
       "    .dataframe thead th {\n",
       "        text-align: right;\n",
       "    }\n",
       "</style>\n",
       "<table border=\"1\" class=\"dataframe\">\n",
       "  <thead>\n",
       "    <tr style=\"text-align: right;\">\n",
       "      <th></th>\n",
       "      <th>Tid</th>\n",
       "      <th>Price</th>\n",
       "      <th>Date of Transfer</th>\n",
       "      <th>Postcode</th>\n",
       "      <th>Property Type</th>\n",
       "      <th>Old/New</th>\n",
       "      <th>Duration</th>\n",
       "      <th>PAON</th>\n",
       "      <th>SAON</th>\n",
       "      <th>Street</th>\n",
       "      <th>Locality</th>\n",
       "      <th>Town/City</th>\n",
       "      <th>District</th>\n",
       "      <th>County</th>\n",
       "      <th>PPD Category Type</th>\n",
       "      <th>Record type</th>\n",
       "    </tr>\n",
       "  </thead>\n",
       "  <tbody>\n",
       "  </tbody>\n",
       "</table>\n",
       "</div>"
      ],
      "text/plain": [
       "Empty DataFrame\n",
       "Columns: [Tid, Price, Date of Transfer, Postcode, Property Type, Old/New, Duration, PAON, SAON, Street, Locality, Town/City, District, County, PPD Category Type, Record type]\n",
       "Index: []"
      ]
     },
     "execution_count": 7,
     "metadata": {},
     "output_type": "execute_result"
    }
   ],
   "source": [
    "# Check if there are any duplicated transaction IDs\n",
    "\n",
    "df[df['Tid'].duplicated() == True]"
   ]
  },
  {
   "cell_type": "code",
   "execution_count": 8,
   "metadata": {},
   "outputs": [],
   "source": [
    "# Delete transactions where Property Type is O (Other). We only want to analise the following categories:\n",
    "# D = Detached, S = Semi-Detached, T = Terraced, F = Flats/Maisonettes\n",
    "\n",
    "df = df.drop(df[df['Property Type'] == 'O'].index)"
   ]
  },
  {
   "cell_type": "code",
   "execution_count": 9,
   "metadata": {},
   "outputs": [],
   "source": [
    "# Delete transactions where PPD Category Type is B (Additional Price Paid). We only want to analise \n",
    "# Type A (Standard Price Paid)\n",
    "\n",
    "df = df.drop(df[df['PPD Category Type'] == 'B'].index)"
   ]
  },
  {
   "cell_type": "code",
   "execution_count": 10,
   "metadata": {},
   "outputs": [
    {
     "data": {
      "text/plain": [
       "Property Type\n",
       "S    690631\n",
       "T    656393\n",
       "D    629587\n",
       "F    405955\n",
       "Name: count, dtype: int64"
      ]
     },
     "execution_count": 10,
     "metadata": {},
     "output_type": "execute_result"
    }
   ],
   "source": [
    "# Check if there are any other values in Property Type column other than the previously specified\n",
    "\n",
    "df['Property Type'].value_counts()"
   ]
  },
  {
   "cell_type": "code",
   "execution_count": 11,
   "metadata": {},
   "outputs": [
    {
     "data": {
      "text/plain": [
       "PPD Category Type\n",
       "A    2382566\n",
       "Name: count, dtype: int64"
      ]
     },
     "execution_count": 11,
     "metadata": {},
     "output_type": "execute_result"
    }
   ],
   "source": [
    "# Check if there are any other values in PPD Category Type column other than the previously specified\n",
    "\n",
    "df['PPD Category Type'].value_counts()"
   ]
  },
  {
   "cell_type": "code",
   "execution_count": 12,
   "metadata": {},
   "outputs": [
    {
     "data": {
      "text/plain": [
       "Record type\n",
       "A    2382566\n",
       "Name: count, dtype: int64"
      ]
     },
     "execution_count": 12,
     "metadata": {},
     "output_type": "execute_result"
    }
   ],
   "source": [
    "# Check if there are any record types that aren't new transactions (Record type 'A')\n",
    "\n",
    "df['Record type'].value_counts()"
   ]
  },
  {
   "cell_type": "code",
   "execution_count": 13,
   "metadata": {},
   "outputs": [
    {
     "data": {
      "text/html": [
       "<div>\n",
       "<style scoped>\n",
       "    .dataframe tbody tr th:only-of-type {\n",
       "        vertical-align: middle;\n",
       "    }\n",
       "\n",
       "    .dataframe tbody tr th {\n",
       "        vertical-align: top;\n",
       "    }\n",
       "\n",
       "    .dataframe thead th {\n",
       "        text-align: right;\n",
       "    }\n",
       "</style>\n",
       "<table border=\"1\" class=\"dataframe\">\n",
       "  <thead>\n",
       "    <tr style=\"text-align: right;\">\n",
       "      <th></th>\n",
       "      <th>Price</th>\n",
       "      <th>Date of Transfer</th>\n",
       "    </tr>\n",
       "  </thead>\n",
       "  <tbody>\n",
       "    <tr>\n",
       "      <th>count</th>\n",
       "      <td>2382566.00000</td>\n",
       "      <td>2382566</td>\n",
       "    </tr>\n",
       "    <tr>\n",
       "      <th>mean</th>\n",
       "      <td>330377.06167</td>\n",
       "      <td>2020-07-12 01:07:45.238571008</td>\n",
       "    </tr>\n",
       "    <tr>\n",
       "      <th>min</th>\n",
       "      <td>1.00000</td>\n",
       "      <td>2018-01-01 00:00:00</td>\n",
       "    </tr>\n",
       "    <tr>\n",
       "      <th>25%</th>\n",
       "      <td>169950.00000</td>\n",
       "      <td>2019-04-18 00:00:00</td>\n",
       "    </tr>\n",
       "    <tr>\n",
       "      <th>50%</th>\n",
       "      <td>259995.00000</td>\n",
       "      <td>2020-09-30 00:00:00</td>\n",
       "    </tr>\n",
       "    <tr>\n",
       "      <th>75%</th>\n",
       "      <td>392000.00000</td>\n",
       "      <td>2021-08-31 00:00:00</td>\n",
       "    </tr>\n",
       "    <tr>\n",
       "      <th>max</th>\n",
       "      <td>51883694.00000</td>\n",
       "      <td>2022-12-30 00:00:00</td>\n",
       "    </tr>\n",
       "    <tr>\n",
       "      <th>std</th>\n",
       "      <td>355701.85869</td>\n",
       "      <td>NaN</td>\n",
       "    </tr>\n",
       "  </tbody>\n",
       "</table>\n",
       "</div>"
      ],
      "text/plain": [
       "               Price               Date of Transfer\n",
       "count  2382566.00000                        2382566\n",
       "mean    330377.06167  2020-07-12 01:07:45.238571008\n",
       "min          1.00000            2018-01-01 00:00:00\n",
       "25%     169950.00000            2019-04-18 00:00:00\n",
       "50%     259995.00000            2020-09-30 00:00:00\n",
       "75%     392000.00000            2021-08-31 00:00:00\n",
       "max   51883694.00000            2022-12-30 00:00:00\n",
       "std     355701.85869                            NaN"
      ]
     },
     "execution_count": 13,
     "metadata": {},
     "output_type": "execute_result"
    }
   ],
   "source": [
    "df.describe()"
   ]
  },
  {
   "cell_type": "code",
   "execution_count": 14,
   "metadata": {},
   "outputs": [
    {
     "data": {
      "text/plain": [
       "Tid                  False\n",
       "Price                False\n",
       "Date of Transfer     False\n",
       "Postcode              True\n",
       "Property Type        False\n",
       "Old/New              False\n",
       "Duration             False\n",
       "PAON                 False\n",
       "SAON                  True\n",
       "Street                True\n",
       "Locality              True\n",
       "Town/City            False\n",
       "District             False\n",
       "County               False\n",
       "PPD Category Type    False\n",
       "Record type          False\n",
       "dtype: bool"
      ]
     },
     "execution_count": 14,
     "metadata": {},
     "output_type": "execute_result"
    }
   ],
   "source": [
    "# Check columns with Null values\n",
    "\n",
    "df.isna().any() "
   ]
  },
  {
   "cell_type": "code",
   "execution_count": 15,
   "metadata": {},
   "outputs": [
    {
     "data": {
      "text/plain": [
       "469"
      ]
     },
     "execution_count": 15,
     "metadata": {},
     "output_type": "execute_result"
    }
   ],
   "source": [
    "# From the previous query, we can see there are null values in the Postcode column. We calculate how many there are\n",
    "\n",
    "df['Postcode'].isnull().sum()"
   ]
  },
  {
   "cell_type": "code",
   "execution_count": 16,
   "metadata": {},
   "outputs": [],
   "source": [
    "# Drop rows with null values in Postcode column\n",
    "\n",
    "df.dropna(subset = ['Postcode'], inplace=True)"
   ]
  },
  {
   "cell_type": "code",
   "execution_count": 17,
   "metadata": {},
   "outputs": [],
   "source": [
    "# Create new dataframe that contains only Greater London information\n",
    "\n",
    "df_london = df.loc[df.County == 'GREATER LONDON']"
   ]
  },
  {
   "cell_type": "code",
   "execution_count": 19,
   "metadata": {},
   "outputs": [
    {
     "data": {
      "text/html": [
       "<div>\n",
       "<style scoped>\n",
       "    .dataframe tbody tr th:only-of-type {\n",
       "        vertical-align: middle;\n",
       "    }\n",
       "\n",
       "    .dataframe tbody tr th {\n",
       "        vertical-align: top;\n",
       "    }\n",
       "\n",
       "    .dataframe thead th {\n",
       "        text-align: right;\n",
       "    }\n",
       "</style>\n",
       "<table border=\"1\" class=\"dataframe\">\n",
       "  <thead>\n",
       "    <tr style=\"text-align: right;\">\n",
       "      <th></th>\n",
       "      <th>Tid</th>\n",
       "      <th>Price</th>\n",
       "      <th>Date of Transfer</th>\n",
       "      <th>Postcode</th>\n",
       "      <th>Property Type</th>\n",
       "      <th>Old/New</th>\n",
       "      <th>Duration</th>\n",
       "      <th>PAON</th>\n",
       "      <th>SAON</th>\n",
       "      <th>Street</th>\n",
       "      <th>Locality</th>\n",
       "      <th>Town/City</th>\n",
       "      <th>District</th>\n",
       "      <th>County</th>\n",
       "      <th>PPD Category Type</th>\n",
       "      <th>Record type</th>\n",
       "    </tr>\n",
       "  </thead>\n",
       "  <tbody>\n",
       "    <tr>\n",
       "      <th>1405</th>\n",
       "      <td>{75050A85-94A3-9A88-E053-6B04A8C02390}</td>\n",
       "      <td>354000</td>\n",
       "      <td>2018-08-03</td>\n",
       "      <td>BR6 0TR</td>\n",
       "      <td>T</td>\n",
       "      <td>N</td>\n",
       "      <td>F</td>\n",
       "      <td>8</td>\n",
       "      <td>NaN</td>\n",
       "      <td>COWDEN ROAD</td>\n",
       "      <td>NaN</td>\n",
       "      <td>ORPINGTON</td>\n",
       "      <td>BROMLEY</td>\n",
       "      <td>GREATER LONDON</td>\n",
       "      <td>A</td>\n",
       "      <td>A</td>\n",
       "    </tr>\n",
       "    <tr>\n",
       "      <th>1406</th>\n",
       "      <td>{75050A85-94A4-9A88-E053-6B04A8C02390}</td>\n",
       "      <td>392000</td>\n",
       "      <td>2018-07-27</td>\n",
       "      <td>KT6 5BH</td>\n",
       "      <td>F</td>\n",
       "      <td>N</td>\n",
       "      <td>L</td>\n",
       "      <td>36</td>\n",
       "      <td>FLAT 2</td>\n",
       "      <td>HOOK ROAD</td>\n",
       "      <td>NaN</td>\n",
       "      <td>SURBITON</td>\n",
       "      <td>KINGSTON UPON THAMES</td>\n",
       "      <td>GREATER LONDON</td>\n",
       "      <td>A</td>\n",
       "      <td>A</td>\n",
       "    </tr>\n",
       "    <tr>\n",
       "      <th>1407</th>\n",
       "      <td>{75050A85-94A5-9A88-E053-6B04A8C02390}</td>\n",
       "      <td>545000</td>\n",
       "      <td>2018-08-24</td>\n",
       "      <td>SW17 0PS</td>\n",
       "      <td>T</td>\n",
       "      <td>N</td>\n",
       "      <td>F</td>\n",
       "      <td>137</td>\n",
       "      <td>NaN</td>\n",
       "      <td>STRATHDON DRIVE</td>\n",
       "      <td>NaN</td>\n",
       "      <td>LONDON</td>\n",
       "      <td>WANDSWORTH</td>\n",
       "      <td>GREATER LONDON</td>\n",
       "      <td>A</td>\n",
       "      <td>A</td>\n",
       "    </tr>\n",
       "    <tr>\n",
       "      <th>1408</th>\n",
       "      <td>{75050A85-94A6-9A88-E053-6B04A8C02390}</td>\n",
       "      <td>269000</td>\n",
       "      <td>2018-06-29</td>\n",
       "      <td>BR6 6AX</td>\n",
       "      <td>T</td>\n",
       "      <td>N</td>\n",
       "      <td>F</td>\n",
       "      <td>22</td>\n",
       "      <td>NaN</td>\n",
       "      <td>KINGSLEY ROAD</td>\n",
       "      <td>NaN</td>\n",
       "      <td>ORPINGTON</td>\n",
       "      <td>BROMLEY</td>\n",
       "      <td>GREATER LONDON</td>\n",
       "      <td>A</td>\n",
       "      <td>A</td>\n",
       "    </tr>\n",
       "    <tr>\n",
       "      <th>1409</th>\n",
       "      <td>{75050A85-94A7-9A88-E053-6B04A8C02390}</td>\n",
       "      <td>335000</td>\n",
       "      <td>2018-08-16</td>\n",
       "      <td>DA7 5QZ</td>\n",
       "      <td>S</td>\n",
       "      <td>N</td>\n",
       "      <td>F</td>\n",
       "      <td>36</td>\n",
       "      <td>NaN</td>\n",
       "      <td>KING HAROLDS WAY</td>\n",
       "      <td>NaN</td>\n",
       "      <td>BEXLEYHEATH</td>\n",
       "      <td>BEXLEY</td>\n",
       "      <td>GREATER LONDON</td>\n",
       "      <td>A</td>\n",
       "      <td>A</td>\n",
       "    </tr>\n",
       "  </tbody>\n",
       "</table>\n",
       "</div>"
      ],
      "text/plain": [
       "                                         Tid   Price Date of Transfer  \\\n",
       "1405  {75050A85-94A3-9A88-E053-6B04A8C02390}  354000       2018-08-03   \n",
       "1406  {75050A85-94A4-9A88-E053-6B04A8C02390}  392000       2018-07-27   \n",
       "1407  {75050A85-94A5-9A88-E053-6B04A8C02390}  545000       2018-08-24   \n",
       "1408  {75050A85-94A6-9A88-E053-6B04A8C02390}  269000       2018-06-29   \n",
       "1409  {75050A85-94A7-9A88-E053-6B04A8C02390}  335000       2018-08-16   \n",
       "\n",
       "      Postcode Property Type Old/New Duration PAON    SAON            Street  \\\n",
       "1405   BR6 0TR             T       N        F    8     NaN       COWDEN ROAD   \n",
       "1406   KT6 5BH             F       N        L   36  FLAT 2         HOOK ROAD   \n",
       "1407  SW17 0PS             T       N        F  137     NaN   STRATHDON DRIVE   \n",
       "1408   BR6 6AX             T       N        F   22     NaN     KINGSLEY ROAD   \n",
       "1409   DA7 5QZ             S       N        F   36     NaN  KING HAROLDS WAY   \n",
       "\n",
       "     Locality    Town/City              District          County  \\\n",
       "1405      NaN    ORPINGTON               BROMLEY  GREATER LONDON   \n",
       "1406      NaN     SURBITON  KINGSTON UPON THAMES  GREATER LONDON   \n",
       "1407      NaN       LONDON            WANDSWORTH  GREATER LONDON   \n",
       "1408      NaN    ORPINGTON               BROMLEY  GREATER LONDON   \n",
       "1409      NaN  BEXLEYHEATH                BEXLEY  GREATER LONDON   \n",
       "\n",
       "     PPD Category Type Record type  \n",
       "1405                 A           A  \n",
       "1406                 A           A  \n",
       "1407                 A           A  \n",
       "1408                 A           A  \n",
       "1409                 A           A  "
      ]
     },
     "execution_count": 19,
     "metadata": {},
     "output_type": "execute_result"
    }
   ],
   "source": [
    "df_london.head()"
   ]
  },
  {
   "cell_type": "code",
   "execution_count": 22,
   "metadata": {},
   "outputs": [
    {
     "name": "stdout",
     "output_type": "stream",
     "text": [
      "<class 'pandas.core.frame.DataFrame'>\n",
      "Index: 250764 entries, 1405 to 899215\n",
      "Data columns (total 16 columns):\n",
      " #   Column             Non-Null Count   Dtype         \n",
      "---  ------             --------------   -----         \n",
      " 0   Tid                250764 non-null  object        \n",
      " 1   Price              250764 non-null  int64         \n",
      " 2   Date of Transfer   250764 non-null  datetime64[ns]\n",
      " 3   Postcode           250764 non-null  object        \n",
      " 4   Property Type      250764 non-null  object        \n",
      " 5   Old/New            250764 non-null  object        \n",
      " 6   Duration           250764 non-null  object        \n",
      " 7   PAON               250764 non-null  object        \n",
      " 8   SAON               91615 non-null   object        \n",
      " 9   Street             250759 non-null  object        \n",
      " 10  Locality           16324 non-null   object        \n",
      " 11  Town/City          250764 non-null  object        \n",
      " 12  District           250764 non-null  object        \n",
      " 13  County             250764 non-null  object        \n",
      " 14  PPD Category Type  250764 non-null  object        \n",
      " 15  Record type        250764 non-null  object        \n",
      "dtypes: datetime64[ns](1), int64(1), object(14)\n",
      "memory usage: 40.6+ MB\n"
     ]
    }
   ],
   "source": [
    "df_london.info()"
   ]
  },
  {
   "cell_type": "code",
   "execution_count": 24,
   "metadata": {},
   "outputs": [
    {
     "data": {
      "text/plain": [
       "<Axes: xlabel='Price'>"
      ]
     },
     "execution_count": 24,
     "metadata": {},
     "output_type": "execute_result"
    },
    {
     "data": {
      "image/png": "[encoded data removed]",
      "text/plain": [
       "<Figure size 432x288 with 1 Axes>"
      ]
     },
     "metadata": {
      "needs_background": "light"
     },
     "output_type": "display_data"
    }
   ],
   "source": [
    "# Identifying outliers in the Price data\n",
    "\n",
    "sns.boxplot(x = df_london['Price'])"
   ]
  },
  {
   "cell_type": "code",
   "execution_count": null,
   "metadata": {},
   "outputs": [],
   "source": [
    "# Deleting outliers\n",
    "\n"
   ]
  },
  {
   "attachments": {},
   "cell_type": "markdown",
   "metadata": {},
   "source": [
    "## Descriptive Analysis"
   ]
  },
  {
   "cell_type": "code",
   "execution_count": 25,
   "metadata": {},
   "outputs": [
    {
     "data": {
      "text/plain": [
       "250764"
      ]
     },
     "execution_count": 25,
     "metadata": {},
     "output_type": "execute_result"
    }
   ],
   "source": [
    "# Number of transactions in Greater London 2018-2022\n",
    "\n",
    "df_london.Tid.count()"
   ]
  },
  {
   "cell_type": "code",
   "execution_count": 26,
   "metadata": {},
   "outputs": [
    {
     "data": {
      "text/plain": [
       "663330.9901261744"
      ]
     },
     "execution_count": 26,
     "metadata": {},
     "output_type": "execute_result"
    }
   ],
   "source": [
    "# Average price paid in Greater London 2018-2022\n",
    "\n",
    "df_london.Price.mean()"
   ]
  },
  {
   "cell_type": "code",
   "execution_count": 27,
   "metadata": {},
   "outputs": [
    {
     "data": {
      "text/plain": [
       "Property Type\n",
       "D   1176922.43837\n",
       "F    557242.63965\n",
       "S    712630.73221\n",
       "T    736070.39231\n",
       "Name: Price, dtype: float64"
      ]
     },
     "execution_count": 27,
     "metadata": {},
     "output_type": "execute_result"
    }
   ],
   "source": [
    "# Average price per property type in Greater London 2018-2022\n",
    "# D = Detached, S = Semi-Detached, T = Terraced, F = Flats/Maisonettes\n",
    "\n",
    "df_london.groupby(['Property Type'])['Price'].mean()"
   ]
  },
  {
   "cell_type": "code",
   "execution_count": 32,
   "metadata": {},
   "outputs": [
    {
     "data": {
      "text/plain": [
       "Date of Transfer\n",
       "2018   618461.33923\n",
       "2019   620785.15598\n",
       "2020   666241.48304\n",
       "2021   674281.69499\n",
       "2022   735266.27092\n",
       "Name: Price, dtype: float64"
      ]
     },
     "execution_count": 32,
     "metadata": {},
     "output_type": "execute_result"
    }
   ],
   "source": [
    "# Average price paid per year\n",
    "\n",
    "df_london.groupby([df_london['Date of Transfer'].dt.year])['Price'].mean()"
   ]
  }
 ],
 "metadata": {
  "kernelspec": {
   "display_name": "Python 3",
   "language": "python",
   "name": "python3"
  },
  "language_info": {
   "codemirror_mode": {
    "name": "ipython",
    "version": 3
   },
   "file_extension": ".py",
   "mimetype": "text/x-python",
   "name": "python",
   "nbconvert_exporter": "python",
   "pygments_lexer": "ipython3",
   "version": "3.10.5"
  },
  "orig_nbformat": 4
 },
 "nbformat": 4,
 "nbformat_minor": 2
}
