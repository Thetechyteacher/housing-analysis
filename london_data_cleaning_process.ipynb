{
 "cells": [
  {
   "cell_type": "code",
   "execution_count": 4,
   "metadata": {},
   "outputs": [],
   "source": [
    "# import Pandas to use for data cleaning \n",
    "import pandas as pd\n"
   ]
  },
  {
   "cell_type": "code",
   "execution_count": 5,
   "metadata": {},
   "outputs": [],
   "source": [
    "# fetch the file we are going to begin with and visualise the first 5 rows\n",
    "data = pd.read_csv('price_paid_records.csv')\n"
   ]
  },
  {
   "cell_type": "code",
   "execution_count": 6,
   "metadata": {},
   "outputs": [
    {
     "data": {
      "text/html": [
       "<div>\n",
       "<style scoped>\n",
       "    .dataframe tbody tr th:only-of-type {\n",
       "        vertical-align: middle;\n",
       "    }\n",
       "\n",
       "    .dataframe tbody tr th {\n",
       "        vertical-align: top;\n",
       "    }\n",
       "\n",
       "    .dataframe thead th {\n",
       "        text-align: right;\n",
       "    }\n",
       "</style>\n",
       "<table border=\"1\" class=\"dataframe\">\n",
       "  <thead>\n",
       "    <tr style=\"text-align: right;\">\n",
       "      <th></th>\n",
       "      <th>Transaction unique identifier</th>\n",
       "      <th>Price</th>\n",
       "      <th>Date of Transfer</th>\n",
       "      <th>Property Type</th>\n",
       "      <th>Old/New</th>\n",
       "      <th>Duration</th>\n",
       "      <th>Town/City</th>\n",
       "      <th>District</th>\n",
       "      <th>County</th>\n",
       "      <th>PPDCategory Type</th>\n",
       "      <th>Record Status - monthly file only</th>\n",
       "    </tr>\n",
       "  </thead>\n",
       "  <tbody>\n",
       "    <tr>\n",
       "      <th>22362577</th>\n",
       "      <td>{5376B386-4BF0-34C1-E053-6B04A8C09FF6}</td>\n",
       "      <td>527500</td>\n",
       "      <td>2017-06-29 00:00</td>\n",
       "      <td>D</td>\n",
       "      <td>N</td>\n",
       "      <td>F</td>\n",
       "      <td>HEMEL HEMPSTEAD</td>\n",
       "      <td>DACORUM</td>\n",
       "      <td>HERTFORDSHIRE</td>\n",
       "      <td>B</td>\n",
       "      <td>A</td>\n",
       "    </tr>\n",
       "    <tr>\n",
       "      <th>22170578</th>\n",
       "      <td>{5376B385-57BD-34C1-E053-6B04A8C09FF6}</td>\n",
       "      <td>277000</td>\n",
       "      <td>2017-06-29 00:00</td>\n",
       "      <td>S</td>\n",
       "      <td>N</td>\n",
       "      <td>F</td>\n",
       "      <td>WICKFORD</td>\n",
       "      <td>BASILDON</td>\n",
       "      <td>ESSEX</td>\n",
       "      <td>A</td>\n",
       "      <td>A</td>\n",
       "    </tr>\n",
       "    <tr>\n",
       "      <th>22227348</th>\n",
       "      <td>{5376B385-E03E-34C1-E053-6B04A8C09FF6}</td>\n",
       "      <td>551000</td>\n",
       "      <td>2017-06-29 00:00</td>\n",
       "      <td>T</td>\n",
       "      <td>N</td>\n",
       "      <td>F</td>\n",
       "      <td>CHISLEHURST</td>\n",
       "      <td>BROMLEY</td>\n",
       "      <td>GREATER LONDON</td>\n",
       "      <td>A</td>\n",
       "      <td>A</td>\n",
       "    </tr>\n",
       "    <tr>\n",
       "      <th>22401945</th>\n",
       "      <td>{5376B386-659E-34C1-E053-6B04A8C09FF6}</td>\n",
       "      <td>250000</td>\n",
       "      <td>2017-06-29 00:00</td>\n",
       "      <td>D</td>\n",
       "      <td>N</td>\n",
       "      <td>F</td>\n",
       "      <td>SALISBURY</td>\n",
       "      <td>WILTSHIRE</td>\n",
       "      <td>WILTSHIRE</td>\n",
       "      <td>B</td>\n",
       "      <td>A</td>\n",
       "    </tr>\n",
       "    <tr>\n",
       "      <th>22461663</th>\n",
       "      <td>{5376B386-089F-34C1-E053-6B04A8C09FF6}</td>\n",
       "      <td>255000</td>\n",
       "      <td>2017-06-29 00:00</td>\n",
       "      <td>D</td>\n",
       "      <td>N</td>\n",
       "      <td>F</td>\n",
       "      <td>WASHINGTON</td>\n",
       "      <td>SUNDERLAND</td>\n",
       "      <td>TYNE AND WEAR</td>\n",
       "      <td>A</td>\n",
       "      <td>A</td>\n",
       "    </tr>\n",
       "  </tbody>\n",
       "</table>\n",
       "</div>"
      ],
      "text/plain": [
       "                   Transaction unique identifier   Price  Date of Transfer  \\\n",
       "22362577  {5376B386-4BF0-34C1-E053-6B04A8C09FF6}  527500  2017-06-29 00:00   \n",
       "22170578  {5376B385-57BD-34C1-E053-6B04A8C09FF6}  277000  2017-06-29 00:00   \n",
       "22227348  {5376B385-E03E-34C1-E053-6B04A8C09FF6}  551000  2017-06-29 00:00   \n",
       "22401945  {5376B386-659E-34C1-E053-6B04A8C09FF6}  250000  2017-06-29 00:00   \n",
       "22461663  {5376B386-089F-34C1-E053-6B04A8C09FF6}  255000  2017-06-29 00:00   \n",
       "\n",
       "         Property Type Old/New Duration        Town/City    District  \\\n",
       "22362577             D       N        F  HEMEL HEMPSTEAD     DACORUM   \n",
       "22170578             S       N        F         WICKFORD    BASILDON   \n",
       "22227348             T       N        F      CHISLEHURST     BROMLEY   \n",
       "22401945             D       N        F        SALISBURY   WILTSHIRE   \n",
       "22461663             D       N        F       WASHINGTON  SUNDERLAND   \n",
       "\n",
       "                  County PPDCategory Type Record Status - monthly file only  \n",
       "22362577   HERTFORDSHIRE                B                                 A  \n",
       "22170578           ESSEX                A                                 A  \n",
       "22227348  GREATER LONDON                A                                 A  \n",
       "22401945       WILTSHIRE                B                                 A  \n",
       "22461663   TYNE AND WEAR                A                                 A  "
      ]
     },
     "execution_count": 6,
     "metadata": {},
     "output_type": "execute_result"
    }
   ],
   "source": [
    "# sort the data in ascending to check up until what year it goes and the visualise through data.tail()\n",
    "data = data.sort_values(by=['Date of Transfer'], ascending=True)\n",
    "data.tail()"
   ]
  },
  {
   "cell_type": "code",
   "execution_count": 7,
   "metadata": {},
   "outputs": [],
   "source": [
    "# create a copy of the original dataframe with the columns we are interested in\n",
    "new_data = data[['Date of Transfer','Price', 'County']].copy()"
   ]
  },
  {
   "cell_type": "code",
   "execution_count": 8,
   "metadata": {},
   "outputs": [
    {
     "data": {
      "text/html": [
       "<div>\n",
       "<style scoped>\n",
       "    .dataframe tbody tr th:only-of-type {\n",
       "        vertical-align: middle;\n",
       "    }\n",
       "\n",
       "    .dataframe tbody tr th {\n",
       "        vertical-align: top;\n",
       "    }\n",
       "\n",
       "    .dataframe thead th {\n",
       "        text-align: right;\n",
       "    }\n",
       "</style>\n",
       "<table border=\"1\" class=\"dataframe\">\n",
       "  <thead>\n",
       "    <tr style=\"text-align: right;\">\n",
       "      <th></th>\n",
       "      <th>Date of Transfer</th>\n",
       "      <th>Price</th>\n",
       "      <th>County</th>\n",
       "    </tr>\n",
       "  </thead>\n",
       "  <tbody>\n",
       "    <tr>\n",
       "      <th>12474116</th>\n",
       "      <td>2006-02-27 00:00</td>\n",
       "      <td>115500</td>\n",
       "      <td>TYNE AND WEAR</td>\n",
       "    </tr>\n",
       "    <tr>\n",
       "      <th>13838216</th>\n",
       "      <td>2007-09-12 00:00</td>\n",
       "      <td>52000</td>\n",
       "      <td>LANCASHIRE</td>\n",
       "    </tr>\n",
       "    <tr>\n",
       "      <th>1180768</th>\n",
       "      <td>1996-04-29 00:00</td>\n",
       "      <td>79000</td>\n",
       "      <td>GREATER LONDON</td>\n",
       "    </tr>\n",
       "    <tr>\n",
       "      <th>4584278</th>\n",
       "      <td>1999-06-25 00:00</td>\n",
       "      <td>64000</td>\n",
       "      <td>NORTH YORKSHIRE</td>\n",
       "    </tr>\n",
       "    <tr>\n",
       "      <th>11623321</th>\n",
       "      <td>2005-06-10 00:00</td>\n",
       "      <td>155000</td>\n",
       "      <td>GREATER LONDON</td>\n",
       "    </tr>\n",
       "    <tr>\n",
       "      <th>12787029</th>\n",
       "      <td>2006-06-30 00:00</td>\n",
       "      <td>249950</td>\n",
       "      <td>CONWY</td>\n",
       "    </tr>\n",
       "    <tr>\n",
       "      <th>12313041</th>\n",
       "      <td>2005-05-23 00:00</td>\n",
       "      <td>148000</td>\n",
       "      <td>WILTSHIRE</td>\n",
       "    </tr>\n",
       "    <tr>\n",
       "      <th>18385568</th>\n",
       "      <td>2013-02-28 00:00</td>\n",
       "      <td>326000</td>\n",
       "      <td>SURREY</td>\n",
       "    </tr>\n",
       "    <tr>\n",
       "      <th>16795574</th>\n",
       "      <td>2010-12-10 00:00</td>\n",
       "      <td>62000</td>\n",
       "      <td>REDCAR AND CLEVELAND</td>\n",
       "    </tr>\n",
       "    <tr>\n",
       "      <th>4738061</th>\n",
       "      <td>1999-11-05 00:00</td>\n",
       "      <td>103000</td>\n",
       "      <td>GREATER LONDON</td>\n",
       "    </tr>\n",
       "  </tbody>\n",
       "</table>\n",
       "</div>"
      ],
      "text/plain": [
       "          Date of Transfer   Price                County\n",
       "12474116  2006-02-27 00:00  115500         TYNE AND WEAR\n",
       "13838216  2007-09-12 00:00   52000            LANCASHIRE\n",
       "1180768   1996-04-29 00:00   79000        GREATER LONDON\n",
       "4584278   1999-06-25 00:00   64000       NORTH YORKSHIRE\n",
       "11623321  2005-06-10 00:00  155000        GREATER LONDON\n",
       "12787029  2006-06-30 00:00  249950                 CONWY\n",
       "12313041  2005-05-23 00:00  148000             WILTSHIRE\n",
       "18385568  2013-02-28 00:00  326000                SURREY\n",
       "16795574  2010-12-10 00:00   62000  REDCAR AND CLEVELAND\n",
       "4738061   1999-11-05 00:00  103000        GREATER LONDON"
      ]
     },
     "execution_count": 8,
     "metadata": {},
     "output_type": "execute_result"
    }
   ],
   "source": [
    "# check that the new dataframe looks like we want it to\n",
    "new_data.sample(n = 10)"
   ]
  },
  {
   "cell_type": "code",
   "execution_count": 9,
   "metadata": {},
   "outputs": [
    {
     "data": {
      "text/plain": [
       "0"
      ]
     },
     "execution_count": 9,
     "metadata": {},
     "output_type": "execute_result"
    }
   ],
   "source": [
    "# make sure there are no nulls in the County column, as it will be used to filter later on.\n",
    "number_of_nans = new_data['County'].isnull().sum()\n",
    "number_of_nans"
   ]
  },
  {
   "cell_type": "code",
   "execution_count": 11,
   "metadata": {},
   "outputs": [],
   "source": [
    "#  Make a new dataframe from the new_data dataframe but only include rows where the column county equals greater london.\n",
    "london_data = new_data.loc[new_data['County'].str.contains('LONDON', na=False)]"
   ]
  },
  {
   "cell_type": "code",
   "execution_count": 12,
   "metadata": {},
   "outputs": [
    {
     "data": {
      "text/html": [
       "<div>\n",
       "<style scoped>\n",
       "    .dataframe tbody tr th:only-of-type {\n",
       "        vertical-align: middle;\n",
       "    }\n",
       "\n",
       "    .dataframe tbody tr th {\n",
       "        vertical-align: top;\n",
       "    }\n",
       "\n",
       "    .dataframe thead th {\n",
       "        text-align: right;\n",
       "    }\n",
       "</style>\n",
       "<table border=\"1\" class=\"dataframe\">\n",
       "  <thead>\n",
       "    <tr style=\"text-align: right;\">\n",
       "      <th></th>\n",
       "      <th>Date of Transfer</th>\n",
       "      <th>Price</th>\n",
       "      <th>County</th>\n",
       "    </tr>\n",
       "  </thead>\n",
       "  <tbody>\n",
       "    <tr>\n",
       "      <th>22461166</th>\n",
       "      <td>2017-06-28 00:00</td>\n",
       "      <td>369950</td>\n",
       "      <td>GREATER LONDON</td>\n",
       "    </tr>\n",
       "    <tr>\n",
       "      <th>22281359</th>\n",
       "      <td>2017-06-28 00:00</td>\n",
       "      <td>485000</td>\n",
       "      <td>GREATER LONDON</td>\n",
       "    </tr>\n",
       "    <tr>\n",
       "      <th>22380614</th>\n",
       "      <td>2017-06-28 00:00</td>\n",
       "      <td>775000</td>\n",
       "      <td>GREATER LONDON</td>\n",
       "    </tr>\n",
       "    <tr>\n",
       "      <th>22122189</th>\n",
       "      <td>2017-06-28 00:00</td>\n",
       "      <td>420000</td>\n",
       "      <td>GREATER LONDON</td>\n",
       "    </tr>\n",
       "    <tr>\n",
       "      <th>22227348</th>\n",
       "      <td>2017-06-29 00:00</td>\n",
       "      <td>551000</td>\n",
       "      <td>GREATER LONDON</td>\n",
       "    </tr>\n",
       "  </tbody>\n",
       "</table>\n",
       "</div>"
      ],
      "text/plain": [
       "          Date of Transfer   Price          County\n",
       "22461166  2017-06-28 00:00  369950  GREATER LONDON\n",
       "22281359  2017-06-28 00:00  485000  GREATER LONDON\n",
       "22380614  2017-06-28 00:00  775000  GREATER LONDON\n",
       "22122189  2017-06-28 00:00  420000  GREATER LONDON\n",
       "22227348  2017-06-29 00:00  551000  GREATER LONDON"
      ]
     },
     "execution_count": 12,
     "metadata": {},
     "output_type": "execute_result"
    }
   ],
   "source": [
    "# check that it looks the way we want to. \n",
    "london_data.tail()\n",
    "# london_data.head()"
   ]
  },
  {
   "cell_type": "code",
   "execution_count": 13,
   "metadata": {},
   "outputs": [
    {
     "data": {
      "text/plain": [
       "Date of Transfer    object\n",
       "Price                int64\n",
       "County              object\n",
       "dtype: object"
      ]
     },
     "execution_count": 13,
     "metadata": {},
     "output_type": "execute_result"
    }
   ],
   "source": [
    "# are the datatypes correct for analysis?\n",
    "london_data.dtypes\n",
    "# we can see 'Date of Transfer' is an object, ideally it should be a date so we can extract the year later on."
   ]
  },
  {
   "cell_type": "code",
   "execution_count": 14,
   "metadata": {},
   "outputs": [
    {
     "name": "stderr",
     "output_type": "stream",
     "text": [
      "/var/folders/gj/tkh2rb516yldhdm4vjvbqmyh0000gp/T/ipykernel_2827/3689114541.py:2: SettingWithCopyWarning: \n",
      "A value is trying to be set on a copy of a slice from a DataFrame.\n",
      "Try using .loc[row_indexer,col_indexer] = value instead\n",
      "\n",
      "See the caveats in the documentation: https://pandas.pydata.org/pandas-docs/stable/user_guide/indexing.html#returning-a-view-versus-a-copy\n",
      "  london_data['Date of Transfer'] = london_data['Date of Transfer'].astype('datetime64')\n"
     ]
    }
   ],
   "source": [
    "# transform the data type from Date of Transfer to 'datetime64'\n",
    "london_data['Date of Transfer'] = london_data['Date of Transfer'].astype('datetime64')"
   ]
  },
  {
   "cell_type": "code",
   "execution_count": 15,
   "metadata": {},
   "outputs": [
    {
     "data": {
      "text/plain": [
       "Date of Transfer    datetime64[ns]\n",
       "Price                        int64\n",
       "County                      object\n",
       "dtype: object"
      ]
     },
     "execution_count": 15,
     "metadata": {},
     "output_type": "execute_result"
    }
   ],
   "source": [
    "# check that we have changed it correctly\n",
    "london_data.dtypes"
   ]
  },
  {
   "cell_type": "code",
   "execution_count": 16,
   "metadata": {},
   "outputs": [
    {
     "name": "stderr",
     "output_type": "stream",
     "text": [
      "/var/folders/gj/tkh2rb516yldhdm4vjvbqmyh0000gp/T/ipykernel_2827/143349623.py:2: SettingWithCopyWarning: \n",
      "A value is trying to be set on a copy of a slice from a DataFrame.\n",
      "Try using .loc[row_indexer,col_indexer] = value instead\n",
      "\n",
      "See the caveats in the documentation: https://pandas.pydata.org/pandas-docs/stable/user_guide/indexing.html#returning-a-view-versus-a-copy\n",
      "  london_data['year']= london_data['Date of Transfer'].dt.strftime('%Y')\n"
     ]
    }
   ],
   "source": [
    "# create a new column named year with only the year out of date of transfer\n",
    "london_data['year']= london_data['Date of Transfer'].dt.strftime('%Y')"
   ]
  },
  {
   "cell_type": "code",
   "execution_count": 17,
   "metadata": {},
   "outputs": [
    {
     "data": {
      "text/plain": [
       "444544      1995\n",
       "199501      1995\n",
       "506016      1995\n",
       "242235      1995\n",
       "90870       1995\n",
       "            ... \n",
       "22461166    2017\n",
       "22281359    2017\n",
       "22380614    2017\n",
       "22122189    2017\n",
       "22227348    2017\n",
       "Name: year, Length: 2993422, dtype: object"
      ]
     },
     "execution_count": 17,
     "metadata": {},
     "output_type": "execute_result"
    }
   ],
   "source": [
    "# check that we have done it correctly\n",
    "london_data.year"
   ]
  },
  {
   "cell_type": "code",
   "execution_count": 18,
   "metadata": {},
   "outputs": [
    {
     "name": "stderr",
     "output_type": "stream",
     "text": [
      "/var/folders/gj/tkh2rb516yldhdm4vjvbqmyh0000gp/T/ipykernel_2827/1435992814.py:2: SettingWithCopyWarning: \n",
      "A value is trying to be set on a copy of a slice from a DataFrame\n",
      "\n",
      "See the caveats in the documentation: https://pandas.pydata.org/pandas-docs/stable/user_guide/indexing.html#returning-a-view-versus-a-copy\n",
      "  london_data.drop('Date of Transfer', axis=1, inplace=True)\n"
     ]
    }
   ],
   "source": [
    "# since we dont need date of transfer column anymore, drop it. \n",
    "london_data.drop('Date of Transfer', axis=1, inplace=True)"
   ]
  },
  {
   "cell_type": "code",
   "execution_count": 19,
   "metadata": {},
   "outputs": [
    {
     "data": {
      "text/html": [
       "<div>\n",
       "<style scoped>\n",
       "    .dataframe tbody tr th:only-of-type {\n",
       "        vertical-align: middle;\n",
       "    }\n",
       "\n",
       "    .dataframe tbody tr th {\n",
       "        vertical-align: top;\n",
       "    }\n",
       "\n",
       "    .dataframe thead th {\n",
       "        text-align: right;\n",
       "    }\n",
       "</style>\n",
       "<table border=\"1\" class=\"dataframe\">\n",
       "  <thead>\n",
       "    <tr style=\"text-align: right;\">\n",
       "      <th></th>\n",
       "      <th>Price</th>\n",
       "      <th>County</th>\n",
       "      <th>year</th>\n",
       "    </tr>\n",
       "  </thead>\n",
       "  <tbody>\n",
       "    <tr>\n",
       "      <th>444544</th>\n",
       "      <td>128000</td>\n",
       "      <td>GREATER LONDON</td>\n",
       "      <td>1995</td>\n",
       "    </tr>\n",
       "    <tr>\n",
       "      <th>199501</th>\n",
       "      <td>300000</td>\n",
       "      <td>GREATER LONDON</td>\n",
       "      <td>1995</td>\n",
       "    </tr>\n",
       "    <tr>\n",
       "      <th>506016</th>\n",
       "      <td>84000</td>\n",
       "      <td>GREATER LONDON</td>\n",
       "      <td>1995</td>\n",
       "    </tr>\n",
       "    <tr>\n",
       "      <th>242235</th>\n",
       "      <td>51500</td>\n",
       "      <td>GREATER LONDON</td>\n",
       "      <td>1995</td>\n",
       "    </tr>\n",
       "    <tr>\n",
       "      <th>90870</th>\n",
       "      <td>117000</td>\n",
       "      <td>GREATER LONDON</td>\n",
       "      <td>1995</td>\n",
       "    </tr>\n",
       "  </tbody>\n",
       "</table>\n",
       "</div>"
      ],
      "text/plain": [
       "         Price          County  year\n",
       "444544  128000  GREATER LONDON  1995\n",
       "199501  300000  GREATER LONDON  1995\n",
       "506016   84000  GREATER LONDON  1995\n",
       "242235   51500  GREATER LONDON  1995\n",
       "90870   117000  GREATER LONDON  1995"
      ]
     },
     "execution_count": 19,
     "metadata": {},
     "output_type": "execute_result"
    }
   ],
   "source": [
    "# check that the table looks like we want it to\n",
    "london_data.head()"
   ]
  },
  {
   "cell_type": "code",
   "execution_count": 21,
   "metadata": {},
   "outputs": [
    {
     "data": {
      "text/html": [
       "<div>\n",
       "<style scoped>\n",
       "    .dataframe tbody tr th:only-of-type {\n",
       "        vertical-align: middle;\n",
       "    }\n",
       "\n",
       "    .dataframe tbody tr th {\n",
       "        vertical-align: top;\n",
       "    }\n",
       "\n",
       "    .dataframe thead th {\n",
       "        text-align: right;\n",
       "    }\n",
       "</style>\n",
       "<table border=\"1\" class=\"dataframe\">\n",
       "  <thead>\n",
       "    <tr style=\"text-align: right;\">\n",
       "      <th></th>\n",
       "      <th>Price</th>\n",
       "      <th>County</th>\n",
       "      <th>year</th>\n",
       "    </tr>\n",
       "  </thead>\n",
       "  <tbody>\n",
       "    <tr>\n",
       "      <th>1073290</th>\n",
       "      <td>69950</td>\n",
       "      <td>GREATER LONDON</td>\n",
       "      <td>1996</td>\n",
       "    </tr>\n",
       "    <tr>\n",
       "      <th>2415273</th>\n",
       "      <td>105000</td>\n",
       "      <td>GREATER LONDON</td>\n",
       "      <td>1997</td>\n",
       "    </tr>\n",
       "    <tr>\n",
       "      <th>3829997</th>\n",
       "      <td>57950</td>\n",
       "      <td>GREATER LONDON</td>\n",
       "      <td>1998</td>\n",
       "    </tr>\n",
       "    <tr>\n",
       "      <th>3918545</th>\n",
       "      <td>62000</td>\n",
       "      <td>GREATER LONDON</td>\n",
       "      <td>1999</td>\n",
       "    </tr>\n",
       "    <tr>\n",
       "      <th>4964115</th>\n",
       "      <td>85500</td>\n",
       "      <td>GREATER LONDON</td>\n",
       "      <td>1999</td>\n",
       "    </tr>\n",
       "    <tr>\n",
       "      <th>6947794</th>\n",
       "      <td>69000</td>\n",
       "      <td>GREATER LONDON</td>\n",
       "      <td>2001</td>\n",
       "    </tr>\n",
       "    <tr>\n",
       "      <th>8848721</th>\n",
       "      <td>1250000</td>\n",
       "      <td>GREATER LONDON</td>\n",
       "      <td>2003</td>\n",
       "    </tr>\n",
       "    <tr>\n",
       "      <th>10248068</th>\n",
       "      <td>292500</td>\n",
       "      <td>GREATER LONDON</td>\n",
       "      <td>2004</td>\n",
       "    </tr>\n",
       "    <tr>\n",
       "      <th>10889612</th>\n",
       "      <td>247500</td>\n",
       "      <td>GREATER LONDON</td>\n",
       "      <td>2004</td>\n",
       "    </tr>\n",
       "    <tr>\n",
       "      <th>12392033</th>\n",
       "      <td>209000</td>\n",
       "      <td>GREATER LONDON</td>\n",
       "      <td>2005</td>\n",
       "    </tr>\n",
       "    <tr>\n",
       "      <th>12691450</th>\n",
       "      <td>258500</td>\n",
       "      <td>GREATER LONDON</td>\n",
       "      <td>2006</td>\n",
       "    </tr>\n",
       "    <tr>\n",
       "      <th>12685205</th>\n",
       "      <td>188000</td>\n",
       "      <td>GREATER LONDON</td>\n",
       "      <td>2006</td>\n",
       "    </tr>\n",
       "    <tr>\n",
       "      <th>14603818</th>\n",
       "      <td>226000</td>\n",
       "      <td>GREATER LONDON</td>\n",
       "      <td>2007</td>\n",
       "    </tr>\n",
       "    <tr>\n",
       "      <th>15524045</th>\n",
       "      <td>517000</td>\n",
       "      <td>GREATER LONDON</td>\n",
       "      <td>2008</td>\n",
       "    </tr>\n",
       "    <tr>\n",
       "      <th>15503000</th>\n",
       "      <td>699950</td>\n",
       "      <td>GREATER LONDON</td>\n",
       "      <td>2008</td>\n",
       "    </tr>\n",
       "    <tr>\n",
       "      <th>16161621</th>\n",
       "      <td>220000</td>\n",
       "      <td>GREATER LONDON</td>\n",
       "      <td>2009</td>\n",
       "    </tr>\n",
       "    <tr>\n",
       "      <th>16822614</th>\n",
       "      <td>295000</td>\n",
       "      <td>GREATER LONDON</td>\n",
       "      <td>2010</td>\n",
       "    </tr>\n",
       "    <tr>\n",
       "      <th>17184683</th>\n",
       "      <td>195000</td>\n",
       "      <td>GREATER LONDON</td>\n",
       "      <td>2011</td>\n",
       "    </tr>\n",
       "    <tr>\n",
       "      <th>18267508</th>\n",
       "      <td>350000</td>\n",
       "      <td>GREATER LONDON</td>\n",
       "      <td>2012</td>\n",
       "    </tr>\n",
       "    <tr>\n",
       "      <th>20612960</th>\n",
       "      <td>497500</td>\n",
       "      <td>GREATER LONDON</td>\n",
       "      <td>2015</td>\n",
       "    </tr>\n",
       "  </tbody>\n",
       "</table>\n",
       "</div>"
      ],
      "text/plain": [
       "            Price          County  year\n",
       "1073290     69950  GREATER LONDON  1996\n",
       "2415273    105000  GREATER LONDON  1997\n",
       "3829997     57950  GREATER LONDON  1998\n",
       "3918545     62000  GREATER LONDON  1999\n",
       "4964115     85500  GREATER LONDON  1999\n",
       "6947794     69000  GREATER LONDON  2001\n",
       "8848721   1250000  GREATER LONDON  2003\n",
       "10248068   292500  GREATER LONDON  2004\n",
       "10889612   247500  GREATER LONDON  2004\n",
       "12392033   209000  GREATER LONDON  2005\n",
       "12691450   258500  GREATER LONDON  2006\n",
       "12685205   188000  GREATER LONDON  2006\n",
       "14603818   226000  GREATER LONDON  2007\n",
       "15524045   517000  GREATER LONDON  2008\n",
       "15503000   699950  GREATER LONDON  2008\n",
       "16161621   220000  GREATER LONDON  2009\n",
       "16822614   295000  GREATER LONDON  2010\n",
       "17184683   195000  GREATER LONDON  2011\n",
       "18267508   350000  GREATER LONDON  2012\n",
       "20612960   497500  GREATER LONDON  2015"
      ]
     },
     "execution_count": 21,
     "metadata": {},
     "output_type": "execute_result"
    }
   ],
   "source": [
    "london_data.sample(n=20).sort_values(by=['year'], ascending=True)"
   ]
  },
  {
   "cell_type": "code",
   "execution_count": 52,
   "metadata": {},
   "outputs": [],
   "source": [
    "# export to csv \n",
    "london_data.to_csv('london_clean_data.csv')"
   ]
  }
 ],
 "metadata": {
  "kernelspec": {
   "display_name": "base",
   "language": "python",
   "name": "python3"
  },
  "language_info": {
   "codemirror_mode": {
    "name": "ipython",
    "version": 3
   },
   "file_extension": ".py",
   "mimetype": "text/x-python",
   "name": "python",
   "nbconvert_exporter": "python",
   "pygments_lexer": "ipython3",
   "version": "3.11.3"
  },
  "orig_nbformat": 4
 },
 "nbformat": 4,
 "nbformat_minor": 2
}
