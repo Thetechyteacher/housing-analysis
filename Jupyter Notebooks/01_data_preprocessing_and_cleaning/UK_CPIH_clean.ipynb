{
 "cells": [
  {
   "cell_type": "markdown",
   "id": "084459b0",
   "metadata": {},
   "source": [
    "# UK Inflation (Consumer Prices Index by Month)"
   ]
  },
  {
   "cell_type": "code",
   "execution_count": 2,
   "id": "ef3f770e",
   "metadata": {},
   "outputs": [],
   "source": [
    "import pandas as pd\n",
    "inflation_df = pd.read_excel('../../Datasets/01_raw_data_files/CPIannualrate.xls')"
   ]
  },
  {
   "cell_type": "markdown",
   "id": "7a075758",
   "metadata": {},
   "source": [
    "## Data Cleaning:"
   ]
  },
  {
   "cell_type": "code",
   "execution_count": 3,
   "id": "a72b0661",
   "metadata": {},
   "outputs": [
    {
     "data": {
      "text/html": [
       "<div>\n",
       "<style scoped>\n",
       "    .dataframe tbody tr th:only-of-type {\n",
       "        vertical-align: middle;\n",
       "    }\n",
       "\n",
       "    .dataframe tbody tr th {\n",
       "        vertical-align: top;\n",
       "    }\n",
       "\n",
       "    .dataframe thead th {\n",
       "        text-align: right;\n",
       "    }\n",
       "</style>\n",
       "<table border=\"1\" class=\"dataframe\">\n",
       "  <thead>\n",
       "    <tr style=\"text-align: right;\">\n",
       "      <th></th>\n",
       "      <th>Title</th>\n",
       "      <th>CPIH ANNUAL RATE 00: ALL ITEMS 2015=100</th>\n",
       "    </tr>\n",
       "  </thead>\n",
       "  <tbody>\n",
       "    <tr>\n",
       "      <th>0</th>\n",
       "      <td>CDID</td>\n",
       "      <td>L55O</td>\n",
       "    </tr>\n",
       "    <tr>\n",
       "      <th>1</th>\n",
       "      <td>Source dataset ID</td>\n",
       "      <td>MM23</td>\n",
       "    </tr>\n",
       "    <tr>\n",
       "      <th>2</th>\n",
       "      <td>PreUnit</td>\n",
       "      <td>NaN</td>\n",
       "    </tr>\n",
       "    <tr>\n",
       "      <th>3</th>\n",
       "      <td>Unit</td>\n",
       "      <td>%</td>\n",
       "    </tr>\n",
       "    <tr>\n",
       "      <th>4</th>\n",
       "      <td>Release date</td>\n",
       "      <td>19-07-2023</td>\n",
       "    </tr>\n",
       "    <tr>\n",
       "      <th>...</th>\n",
       "      <td>...</td>\n",
       "      <td>...</td>\n",
       "    </tr>\n",
       "    <tr>\n",
       "      <th>588</th>\n",
       "      <td>2023 FEB</td>\n",
       "      <td>9.2</td>\n",
       "    </tr>\n",
       "    <tr>\n",
       "      <th>589</th>\n",
       "      <td>2023 MAR</td>\n",
       "      <td>8.9</td>\n",
       "    </tr>\n",
       "    <tr>\n",
       "      <th>590</th>\n",
       "      <td>2023 APR</td>\n",
       "      <td>7.8</td>\n",
       "    </tr>\n",
       "    <tr>\n",
       "      <th>591</th>\n",
       "      <td>2023 MAY</td>\n",
       "      <td>7.9</td>\n",
       "    </tr>\n",
       "    <tr>\n",
       "      <th>592</th>\n",
       "      <td>2023 JUN</td>\n",
       "      <td>7.3</td>\n",
       "    </tr>\n",
       "  </tbody>\n",
       "</table>\n",
       "<p>593 rows × 2 columns</p>\n",
       "</div>"
      ],
      "text/plain": [
       "                 Title CPIH ANNUAL RATE 00: ALL ITEMS 2015=100\n",
       "0                 CDID                                    L55O\n",
       "1    Source dataset ID                                    MM23\n",
       "2              PreUnit                                     NaN\n",
       "3                 Unit                                       %\n",
       "4         Release date                              19-07-2023\n",
       "..                 ...                                     ...\n",
       "588           2023 FEB                                     9.2\n",
       "589           2023 MAR                                     8.9\n",
       "590           2023 APR                                     7.8\n",
       "591           2023 MAY                                     7.9\n",
       "592           2023 JUN                                     7.3\n",
       "\n",
       "[593 rows x 2 columns]"
      ]
     },
     "execution_count": 3,
     "metadata": {},
     "output_type": "execute_result"
    }
   ],
   "source": [
    "# Visualise the data frame\n",
    "inflation_df"
   ]
  },
  {
   "cell_type": "code",
   "execution_count": 4,
   "id": "5865e935",
   "metadata": {},
   "outputs": [
    {
     "name": "stdout",
     "output_type": "stream",
     "text": [
      "<class 'pandas.core.frame.DataFrame'>\n",
      "RangeIndex: 593 entries, 0 to 592\n",
      "Data columns (total 2 columns):\n",
      " #   Column                                   Non-Null Count  Dtype \n",
      "---  ------                                   --------------  ----- \n",
      " 0   Title                                    593 non-null    object\n",
      " 1   CPIH ANNUAL RATE 00: ALL ITEMS 2015=100  591 non-null    object\n",
      "dtypes: object(2)\n",
      "memory usage: 9.4+ KB\n"
     ]
    }
   ],
   "source": [
    "# Brief overview of the dataset\n",
    "inflation_df.info()"
   ]
  },
  {
   "cell_type": "markdown",
   "id": "7ed8e463",
   "metadata": {},
   "source": [
    "### Problems to be cleaned:\n",
    "* Rows 0-6 are not relevant data to us\n",
    "* Data types in both columns are objects\n",
    "* Dataset contains yearly, quartery and monthly data (we only want monthly)\n",
    "* We are only focusing on 2006-present\n",
    "* Rename the column headings to be more consise"
   ]
  },
  {
   "cell_type": "code",
   "execution_count": 5,
   "id": "7fa5f824",
   "metadata": {},
   "outputs": [],
   "source": [
    "# Drop rows 0 to 6\n",
    "inflation_df2 = inflation_df.copy()\n",
    "\n",
    "inflation_df2.drop(0, inplace=True, axis=0)\n",
    "inflation_df2.drop(1, inplace=True, axis=0)\n",
    "inflation_df2.drop(2, inplace=True, axis=0)\n",
    "inflation_df2.drop(3, inplace=True, axis=0)\n",
    "inflation_df2.drop(4, inplace=True, axis=0)\n",
    "inflation_df2.drop(5, inplace=True, axis=0)\n",
    "inflation_df2.drop(6, inplace=True, axis=0)"
   ]
  },
  {
   "cell_type": "code",
   "execution_count": 6,
   "id": "5e819dea",
   "metadata": {},
   "outputs": [
    {
     "data": {
      "text/html": [
       "<div>\n",
       "<style scoped>\n",
       "    .dataframe tbody tr th:only-of-type {\n",
       "        vertical-align: middle;\n",
       "    }\n",
       "\n",
       "    .dataframe tbody tr th {\n",
       "        vertical-align: top;\n",
       "    }\n",
       "\n",
       "    .dataframe thead th {\n",
       "        text-align: right;\n",
       "    }\n",
       "</style>\n",
       "<table border=\"1\" class=\"dataframe\">\n",
       "  <thead>\n",
       "    <tr style=\"text-align: right;\">\n",
       "      <th></th>\n",
       "      <th>Title</th>\n",
       "      <th>CPIH ANNUAL RATE 00: ALL ITEMS 2015=100</th>\n",
       "    </tr>\n",
       "  </thead>\n",
       "  <tbody>\n",
       "    <tr>\n",
       "      <th>7</th>\n",
       "      <td>1989</td>\n",
       "      <td>5.7</td>\n",
       "    </tr>\n",
       "    <tr>\n",
       "      <th>8</th>\n",
       "      <td>1990</td>\n",
       "      <td>8</td>\n",
       "    </tr>\n",
       "    <tr>\n",
       "      <th>9</th>\n",
       "      <td>1991</td>\n",
       "      <td>7.5</td>\n",
       "    </tr>\n",
       "    <tr>\n",
       "      <th>10</th>\n",
       "      <td>1992</td>\n",
       "      <td>4.6</td>\n",
       "    </tr>\n",
       "    <tr>\n",
       "      <th>11</th>\n",
       "      <td>1993</td>\n",
       "      <td>2.6</td>\n",
       "    </tr>\n",
       "  </tbody>\n",
       "</table>\n",
       "</div>"
      ],
      "text/plain": [
       "   Title CPIH ANNUAL RATE 00: ALL ITEMS 2015=100\n",
       "7   1989                                     5.7\n",
       "8   1990                                       8\n",
       "9   1991                                     7.5\n",
       "10  1992                                     4.6\n",
       "11  1993                                     2.6"
      ]
     },
     "execution_count": 6,
     "metadata": {},
     "output_type": "execute_result"
    }
   ],
   "source": [
    "inflation_df2.head()"
   ]
  },
  {
   "cell_type": "code",
   "execution_count": 7,
   "id": "3341f485",
   "metadata": {},
   "outputs": [
    {
     "data": {
      "text/html": [
       "<div>\n",
       "<style scoped>\n",
       "    .dataframe tbody tr th:only-of-type {\n",
       "        vertical-align: middle;\n",
       "    }\n",
       "\n",
       "    .dataframe tbody tr th {\n",
       "        vertical-align: top;\n",
       "    }\n",
       "\n",
       "    .dataframe thead th {\n",
       "        text-align: right;\n",
       "    }\n",
       "</style>\n",
       "<table border=\"1\" class=\"dataframe\">\n",
       "  <thead>\n",
       "    <tr style=\"text-align: right;\">\n",
       "      <th></th>\n",
       "      <th>Title</th>\n",
       "      <th>CPIH ANNUAL RATE 00: ALL ITEMS 2015=100</th>\n",
       "    </tr>\n",
       "  </thead>\n",
       "  <tbody>\n",
       "    <tr>\n",
       "      <th>0</th>\n",
       "      <td>2006 JAN</td>\n",
       "      <td>2.2</td>\n",
       "    </tr>\n",
       "    <tr>\n",
       "      <th>1</th>\n",
       "      <td>2006 FEB</td>\n",
       "      <td>2.2</td>\n",
       "    </tr>\n",
       "    <tr>\n",
       "      <th>2</th>\n",
       "      <td>2006 MAR</td>\n",
       "      <td>2</td>\n",
       "    </tr>\n",
       "    <tr>\n",
       "      <th>3</th>\n",
       "      <td>2006 APR</td>\n",
       "      <td>2.2</td>\n",
       "    </tr>\n",
       "    <tr>\n",
       "      <th>4</th>\n",
       "      <td>2006 MAY</td>\n",
       "      <td>2.4</td>\n",
       "    </tr>\n",
       "    <tr>\n",
       "      <th>...</th>\n",
       "      <td>...</td>\n",
       "      <td>...</td>\n",
       "    </tr>\n",
       "    <tr>\n",
       "      <th>199</th>\n",
       "      <td>2022 AUG</td>\n",
       "      <td>8.6</td>\n",
       "    </tr>\n",
       "    <tr>\n",
       "      <th>200</th>\n",
       "      <td>2022 SEP</td>\n",
       "      <td>8.8</td>\n",
       "    </tr>\n",
       "    <tr>\n",
       "      <th>201</th>\n",
       "      <td>2022 OCT</td>\n",
       "      <td>9.6</td>\n",
       "    </tr>\n",
       "    <tr>\n",
       "      <th>202</th>\n",
       "      <td>2022 NOV</td>\n",
       "      <td>9.3</td>\n",
       "    </tr>\n",
       "    <tr>\n",
       "      <th>203</th>\n",
       "      <td>2022 DEC</td>\n",
       "      <td>9.2</td>\n",
       "    </tr>\n",
       "  </tbody>\n",
       "</table>\n",
       "<p>204 rows × 2 columns</p>\n",
       "</div>"
      ],
      "text/plain": [
       "        Title CPIH ANNUAL RATE 00: ALL ITEMS 2015=100\n",
       "0    2006 JAN                                     2.2\n",
       "1    2006 FEB                                     2.2\n",
       "2    2006 MAR                                       2\n",
       "3    2006 APR                                     2.2\n",
       "4    2006 MAY                                     2.4\n",
       "..        ...                                     ...\n",
       "199  2022 AUG                                     8.6\n",
       "200  2022 SEP                                     8.8\n",
       "201  2022 OCT                                     9.6\n",
       "202  2022 NOV                                     9.3\n",
       "203  2022 DEC                                     9.2\n",
       "\n",
       "[204 rows x 2 columns]"
      ]
     },
     "execution_count": 7,
     "metadata": {},
     "output_type": "execute_result"
    }
   ],
   "source": [
    "# Remove all rows outside of 2006 Jan - 2022 Dec\n",
    "inflation_df2 = inflation_df2.iloc[376:580]\n",
    "\n",
    "# Reset index accordingly and check correct time frame has been selected for the new dataframe\n",
    "inflation_df2 = inflation_df2.reset_index(drop = True)\n",
    "inflation_df2"
   ]
  },
  {
   "cell_type": "code",
   "execution_count": 8,
   "id": "c92dc300",
   "metadata": {},
   "outputs": [],
   "source": [
    "# Change column names\n",
    "inflation_df2 = inflation_df2.rename(columns={'Title': 'Date', 'CPIH ANNUAL RATE 00: ALL ITEMS 2015=100': 'CPIH Annual Rate'})"
   ]
  },
  {
   "cell_type": "code",
   "execution_count": 9,
   "id": "f0ec67fe",
   "metadata": {},
   "outputs": [],
   "source": [
    "# Convert data in 'Date' column from an object to a date\n",
    "inflation_df2['Date'] = pd.to_datetime(inflation_df2['Date'])\n",
    "\n",
    "# Convert data in 'CPIH Annual Rate' column from an object to a float\n",
    "inflation_df2['CPIH Annual Rate'] = pd.to_numeric(inflation_df2['CPIH Annual Rate'])"
   ]
  },
  {
   "cell_type": "code",
   "execution_count": 10,
   "id": "2c556c0b",
   "metadata": {},
   "outputs": [
    {
     "data": {
      "text/plain": [
       "Date                datetime64[ns]\n",
       "CPIH Annual Rate           float64\n",
       "dtype: object"
      ]
     },
     "execution_count": 10,
     "metadata": {},
     "output_type": "execute_result"
    }
   ],
   "source": [
    "# Check data types are correct\n",
    "inflation_df2.dtypes"
   ]
  },
  {
   "cell_type": "code",
   "execution_count": 11,
   "id": "e135a39f",
   "metadata": {},
   "outputs": [
    {
     "data": {
      "text/html": [
       "<div>\n",
       "<style scoped>\n",
       "    .dataframe tbody tr th:only-of-type {\n",
       "        vertical-align: middle;\n",
       "    }\n",
       "\n",
       "    .dataframe tbody tr th {\n",
       "        vertical-align: top;\n",
       "    }\n",
       "\n",
       "    .dataframe thead th {\n",
       "        text-align: right;\n",
       "    }\n",
       "</style>\n",
       "<table border=\"1\" class=\"dataframe\">\n",
       "  <thead>\n",
       "    <tr style=\"text-align: right;\">\n",
       "      <th></th>\n",
       "      <th>Date</th>\n",
       "      <th>CPIH Annual Rate</th>\n",
       "    </tr>\n",
       "  </thead>\n",
       "  <tbody>\n",
       "    <tr>\n",
       "      <th>0</th>\n",
       "      <td>2006-01-01</td>\n",
       "      <td>2.2</td>\n",
       "    </tr>\n",
       "    <tr>\n",
       "      <th>1</th>\n",
       "      <td>2006-02-01</td>\n",
       "      <td>2.2</td>\n",
       "    </tr>\n",
       "    <tr>\n",
       "      <th>2</th>\n",
       "      <td>2006-03-01</td>\n",
       "      <td>2.0</td>\n",
       "    </tr>\n",
       "    <tr>\n",
       "      <th>3</th>\n",
       "      <td>2006-04-01</td>\n",
       "      <td>2.2</td>\n",
       "    </tr>\n",
       "    <tr>\n",
       "      <th>4</th>\n",
       "      <td>2006-05-01</td>\n",
       "      <td>2.4</td>\n",
       "    </tr>\n",
       "    <tr>\n",
       "      <th>...</th>\n",
       "      <td>...</td>\n",
       "      <td>...</td>\n",
       "    </tr>\n",
       "    <tr>\n",
       "      <th>199</th>\n",
       "      <td>2022-08-01</td>\n",
       "      <td>8.6</td>\n",
       "    </tr>\n",
       "    <tr>\n",
       "      <th>200</th>\n",
       "      <td>2022-09-01</td>\n",
       "      <td>8.8</td>\n",
       "    </tr>\n",
       "    <tr>\n",
       "      <th>201</th>\n",
       "      <td>2022-10-01</td>\n",
       "      <td>9.6</td>\n",
       "    </tr>\n",
       "    <tr>\n",
       "      <th>202</th>\n",
       "      <td>2022-11-01</td>\n",
       "      <td>9.3</td>\n",
       "    </tr>\n",
       "    <tr>\n",
       "      <th>203</th>\n",
       "      <td>2022-12-01</td>\n",
       "      <td>9.2</td>\n",
       "    </tr>\n",
       "  </tbody>\n",
       "</table>\n",
       "<p>204 rows × 2 columns</p>\n",
       "</div>"
      ],
      "text/plain": [
       "          Date  CPIH Annual Rate\n",
       "0   2006-01-01               2.2\n",
       "1   2006-02-01               2.2\n",
       "2   2006-03-01               2.0\n",
       "3   2006-04-01               2.2\n",
       "4   2006-05-01               2.4\n",
       "..         ...               ...\n",
       "199 2022-08-01               8.6\n",
       "200 2022-09-01               8.8\n",
       "201 2022-10-01               9.6\n",
       "202 2022-11-01               9.3\n",
       "203 2022-12-01               9.2\n",
       "\n",
       "[204 rows x 2 columns]"
      ]
     },
     "execution_count": 11,
     "metadata": {},
     "output_type": "execute_result"
    }
   ],
   "source": [
    "# Visualise the clean data frame\n",
    "inflation_df2"
   ]
  },
  {
   "cell_type": "markdown",
   "id": "3771ffa5",
   "metadata": {},
   "source": [
    "### Descriptive Analysis:"
   ]
  },
  {
   "cell_type": "code",
   "execution_count": 12,
   "id": "238ddb56",
   "metadata": {},
   "outputs": [
    {
     "data": {
      "text/html": [
       "<div>\n",
       "<style scoped>\n",
       "    .dataframe tbody tr th:only-of-type {\n",
       "        vertical-align: middle;\n",
       "    }\n",
       "\n",
       "    .dataframe tbody tr th {\n",
       "        vertical-align: top;\n",
       "    }\n",
       "\n",
       "    .dataframe thead th {\n",
       "        text-align: right;\n",
       "    }\n",
       "</style>\n",
       "<table border=\"1\" class=\"dataframe\">\n",
       "  <thead>\n",
       "    <tr style=\"text-align: right;\">\n",
       "      <th></th>\n",
       "      <th>CPIH Annual Rate</th>\n",
       "    </tr>\n",
       "  </thead>\n",
       "  <tbody>\n",
       "    <tr>\n",
       "      <th>count</th>\n",
       "      <td>204.000000</td>\n",
       "    </tr>\n",
       "    <tr>\n",
       "      <th>mean</th>\n",
       "      <td>2.493137</td>\n",
       "    </tr>\n",
       "    <tr>\n",
       "      <th>std</th>\n",
       "      <td>1.702780</td>\n",
       "    </tr>\n",
       "    <tr>\n",
       "      <th>min</th>\n",
       "      <td>0.200000</td>\n",
       "    </tr>\n",
       "    <tr>\n",
       "      <th>25%</th>\n",
       "      <td>1.600000</td>\n",
       "    </tr>\n",
       "    <tr>\n",
       "      <th>50%</th>\n",
       "      <td>2.300000</td>\n",
       "    </tr>\n",
       "    <tr>\n",
       "      <th>75%</th>\n",
       "      <td>2.800000</td>\n",
       "    </tr>\n",
       "    <tr>\n",
       "      <th>max</th>\n",
       "      <td>9.600000</td>\n",
       "    </tr>\n",
       "  </tbody>\n",
       "</table>\n",
       "</div>"
      ],
      "text/plain": [
       "       CPIH Annual Rate\n",
       "count        204.000000\n",
       "mean           2.493137\n",
       "std            1.702780\n",
       "min            0.200000\n",
       "25%            1.600000\n",
       "50%            2.300000\n",
       "75%            2.800000\n",
       "max            9.600000"
      ]
     },
     "execution_count": 12,
     "metadata": {},
     "output_type": "execute_result"
    }
   ],
   "source": [
    "inflation_df2.describe()"
   ]
  },
  {
   "cell_type": "markdown",
   "id": "8ec8d3b0",
   "metadata": {},
   "source": [
    "* The mean CPIH annual rate is 2.49\n",
    "* The min CPIH annual rate is 0.200\n",
    "* The max CPIH annual rate is 9.60"
   ]
  },
  {
   "cell_type": "code",
   "execution_count": null,
   "id": "bfa95501",
   "metadata": {},
   "outputs": [],
   "source": [
    "# Save the cleaned dataframe as a .csv\n",
    "# inflation_df2.to_csv('monthly_cpih.csv')"
   ]
  }
 ],
 "metadata": {
  "kernelspec": {
   "display_name": "Python 3 (ipykernel)",
   "language": "python",
   "name": "python3"
  },
  "language_info": {
   "codemirror_mode": {
    "name": "ipython",
    "version": 3
   },
   "file_extension": ".py",
   "mimetype": "text/x-python",
   "name": "python",
   "nbconvert_exporter": "python",
   "pygments_lexer": "ipython3",
   "version": "3.9.13"
  }
 },
 "nbformat": 4,
 "nbformat_minor": 5
}
